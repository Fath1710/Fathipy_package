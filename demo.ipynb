{
 "cells": [
  {
   "cell_type": "code",
   "execution_count": 1,
   "metadata": {},
   "outputs": [],
   "source": [
    "from Fathipy import Rotation as Rot\n",
    "from Fathipy import StandardModelParticle \n",
    "from Fathipy import ThreeVector as TV\n",
    "import numpy as np"
   ]
  },
  {
   "cell_type": "code",
   "execution_count": 2,
   "metadata": {},
   "outputs": [
    {
     "name": "stderr",
     "output_type": "stream",
     "text": [
      "................\n",
      "----------------------------------------------------------------------\n",
      "Ran 16 tests in 0.004s\n",
      "\n",
      "OK\n"
     ]
    }
   ],
   "source": [
    "!python -m unittest discover -s tests\n"
   ]
  },
  {
   "cell_type": "code",
   "execution_count": 3,
   "metadata": {},
   "outputs": [
    {
     "name": "stdout",
     "output_type": "stream",
     "text": [
      "\u001b[1m============================= test session starts =============================\u001b[0m\n",
      "platform win32 -- Python 3.11.5, pytest-7.4.0, pluggy-1.0.0\n",
      "rootdir: c:\\Users\\vivia\\Documents\\Fathipy_package\n",
      "plugins: anyio-3.5.0\n",
      "collected 16 items\n",
      "\n",
      "tests\\test_rotation.py \u001b[32m.\u001b[0m\u001b[32m.\u001b[0m\u001b[32m.\u001b[0m\u001b[32m.\u001b[0m\u001b[32m.\u001b[0m\u001b[32m                                             [ 31%]\u001b[0m\n",
      "tests\\test_smparticle.py \u001b[32m.\u001b[0m\u001b[32m.\u001b[0m\u001b[32m.\u001b[0m\u001b[32m.\u001b[0m\u001b[32m                                            [ 56%]\u001b[0m\n",
      "tests\\test_threevector.py \u001b[32m.\u001b[0m\u001b[32m.\u001b[0m\u001b[32m.\u001b[0m\u001b[32m.\u001b[0m\u001b[32m.\u001b[0m\u001b[32m.\u001b[0m\u001b[32m.\u001b[0m\u001b[32m                                        [100%]\u001b[0m\n",
      "\n",
      "\u001b[32m============================= \u001b[32m\u001b[1m16 passed\u001b[0m\u001b[32m in 0.36s\u001b[0m\u001b[32m ==============================\u001b[0m\n"
     ]
    }
   ],
   "source": [
    "!pytest tests/"
   ]
  },
  {
   "cell_type": "markdown",
   "metadata": {},
   "source": [
    "# Ejemplos "
   ]
  },
  {
   "cell_type": "markdown",
   "metadata": {},
   "source": [
    "## ThreeVector"
   ]
  },
  {
   "cell_type": "code",
   "execution_count": 4,
   "metadata": {},
   "outputs": [
    {
     "name": "stdout",
     "output_type": "stream",
     "text": [
      "Suma de vectores: ThreeVector(x=(5+0j), y=(7+0j), z=(9+0j))\n",
      "Resta de vectores: ThreeVector(x=(-3+0j), y=(-3+0j), z=(-3+0j))\n",
      "Producto punto: (32+0j)\n",
      "Producto cruzado: ThreeVector(x=(-3+0j), y=(6+0j), z=(-3+0j))\n"
     ]
    }
   ],
   "source": [
    "# Crear vectores\n",
    "v1 = TV(1, 2, 3)\n",
    "v2 = TV(4, 5, 6)\n",
    "\n",
    "# Suma de vectores\n",
    "v3 = v1 + v2\n",
    "print(\"Suma de vectores:\", v3)  # Output: ThreeVector(x=5.0, y=7.0, z=9.0)\n",
    "\n",
    "# Resta de vectores\n",
    "v4 = v1 - v2\n",
    "print(\"Resta de vectores:\", v4)  # Output: ThreeVector(x=-3.0, y=-3.0, z=-3.0)\n",
    "\n",
    "# Producto punto\n",
    "dot_product = v1.dot(v2)\n",
    "print(\"Producto punto:\", dot_product)  # Output: (32+0j)\n",
    "\n",
    "# Producto cruzado\n",
    "v5 = v1.cross(v2)\n",
    "print(\"Producto cruzado:\", v5)  # Output: ThreeVector(x=-3.0, y=6.0, z=-3.0)\n"
   ]
  },
  {
   "cell_type": "markdown",
   "metadata": {},
   "source": [
    "## Rotation"
   ]
  },
  {
   "cell_type": "code",
   "execution_count": 5,
   "metadata": {},
   "outputs": [
    {
     "name": "stdout",
     "output_type": "stream",
     "text": [
      "Vector original: ThreeVector(x=(1+0j), y=0j, z=0j)\n",
      "Vector rotado: ThreeVector(x=(6.123233995736766e-17+0j), y=(1+0j), z=0j)\n"
     ]
    }
   ],
   "source": [
    "# Crear un eje de rotación: el eje Z\n",
    "axis = TV(0, 0, 1)\n",
    "\n",
    "# Crear una rotación de 90 grados (π/2 radianes) alrededor del eje Z\n",
    "rotation = Rot(np.pi / 2, axis)\n",
    "\n",
    "# Crear un vector que será rotado\n",
    "v = TV(1, 0, 0)\n",
    "\n",
    "# Aplicar la rotación\n",
    "rotated_v = rotation.apply(v)\n",
    "\n",
    "print(\"Vector original:\", v)           # Output: ThreeVector(x=(1+0j), y=0j, z=0j)\n",
    "print(\"Vector rotado:\", rotated_v)     # Output: ThreeVector(x=0j, y=(1+0j), z=0j)"
   ]
  },
  {
   "cell_type": "code",
   "execution_count": 6,
   "metadata": {},
   "outputs": [
    {
     "name": "stdout",
     "output_type": "stream",
     "text": [
      "Vector original: ThreeVector(x=0j, y=(1+0j), z=0j)\n",
      "Vector rotado: ThreeVector(x=0j, y=(6.123233995736766e-17+0j), z=(1+0j))\n"
     ]
    }
   ],
   "source": [
    "# Crear un eje de rotación: el eje X\n",
    "axis = TV(1, 0, 0)\n",
    "\n",
    "# Crear una rotación de 90 grados (π/2 radianes) alrededor del eje X\n",
    "rotation = Rot(np.pi / 2, axis)\n",
    "\n",
    "# Crear un vector que será rotado\n",
    "v = TV(0, 1, 0)\n",
    "\n",
    "# Aplicar la rotación\n",
    "rotated_v = rotation.apply(v)\n",
    "\n",
    "print(\"Vector original:\", v)           # Output: ThreeVector(x=0j, y=(1+0j), z=0j)\n",
    "print(\"Vector rotado:\", rotated_v)     # Output: ThreeVector(x=0j, y=0j, z=(1+0j))\n"
   ]
  },
  {
   "cell_type": "code",
   "execution_count": 10,
   "metadata": {},
   "outputs": [
    {
     "name": "stdout",
     "output_type": "stream",
     "text": [
      "Electron (e-) - Masa: 0.51099895 MeV/c^2, Carga: -1, Espín: 0.5, Tipo: fermion, Antipartícula: False, Vida Media 2.1129120000000003e+36\n",
      "Muon (μ-) - Masa: 105.6583755 MeV/c^2, Carga: -1, Espín: 0.5, Tipo: fermion, Antipartícula: False, Vida Media 2.2e-06\n",
      "Quarkdown (d) - Masa: 4.7 MeV/c^2, Carga: -0.3333333333333333, Espín: 0.5, Tipo: quark, Antipartícula: False, Vida Media None\n",
      "Quarkup (u) - Masa: 2.16 MeV/c^2, Carga: 0.6666666666666666, Espín: 0.5, Tipo: quark, Antipartícula: False, Vida Media None\n",
      "Foton (γ) - Masa: 1e-18 MeV/c^2, Carga: 0, Espín: 1, Tipo: boson, Antipartícula: False, Vida Media None\n",
      "Gluon (g) - Masa: 0 MeV/c^2, Carga: 0, Espín: 1, Tipo: boson, Antipartícula: False, Vida Media None\n"
     ]
    }
   ],
   "source": [
    "from Fathipy.SMparticle import StandardModelParticle\n",
    "\n",
    "# Definición de las partículas\n",
    "Electron = StandardModelParticle(\n",
    "    name=\"Electron\",\n",
    "    symbol=\"e-\",\n",
    "    charge=-1,\n",
    "    mass=0.51099895,  \n",
    "    spin=1/2,\n",
    "    type_of_particle=\"fermion\",\n",
    "    mean_life=(6.7e28 * 365 * 24 * 60 * 60)  # Vida media en segundos\n",
    ")\n",
    "\n",
    "Muon = StandardModelParticle(\n",
    "    name=\"Muon\",\n",
    "    symbol=\"μ-\",\n",
    "    charge=-1,\n",
    "    mass=105.6583755,  \n",
    "    spin=1/2,\n",
    "    type_of_particle=\"fermion\",\n",
    "    mean_life=2.2e-6  # Vida media en segundos\n",
    ")\n",
    "\n",
    "Quarkdown = StandardModelParticle(\n",
    "    name=\"Quarkdown\",\n",
    "    symbol=\"d\",\n",
    "    charge=-1/3,\n",
    "    mass=4.7,  \n",
    "    spin=1/2,\n",
    "    type_of_particle=\"quark\",\n",
    "    mean_life=None  # Vida media indefinida\n",
    ")\n",
    "\n",
    "Quarkup = StandardModelParticle(\n",
    "    name=\"Quarkup\",\n",
    "    symbol=\"u\",\n",
    "    charge=2/3,\n",
    "    mass=2.16,  \n",
    "    spin=1/2,\n",
    "    type_of_particle=\"quark\",\n",
    "    mean_life=None  # Vida media indefinida\n",
    ")\n",
    "\n",
    "Foton = StandardModelParticle(\n",
    "    name=\"Foton\",\n",
    "    symbol=\"γ\",\n",
    "    charge=0,\n",
    "    mass=1e-18,  \n",
    "    spin=1,\n",
    "    type_of_particle=\"boson\",\n",
    "    mean_life=None  # Partícula estable\n",
    ")\n",
    "\n",
    "Gluon = StandardModelParticle(\n",
    "    name=\"Gluon\",\n",
    "    symbol=\"g\",\n",
    "    charge=0,\n",
    "    mass=0,  \n",
    "    spin=1,\n",
    "    type_of_particle=\"boson\",\n",
    "    mean_life=None  # Partícula estable\n",
    ")\n",
    "\n",
    "# Mostrar información de las partículas\n",
    "particles = [Electron, Muon, Quarkdown, Quarkup, Foton, Gluon]\n",
    "\n",
    "for particle in particles:\n",
    "    print(particle.info())\n"
   ]
  },
  {
   "cell_type": "code",
   "execution_count": 11,
   "metadata": {},
   "outputs": [
    {
     "name": "stdout",
     "output_type": "stream",
     "text": [
      "Sistema de Partículas: Protón\n",
      "Carga total: 1.0 e\n"
     ]
    }
   ],
   "source": [
    "# Crear sistema para representar el protón\n",
    "proton_system = [Quarkup, Quarkup, Quarkdown]\n",
    "\n",
    "# Calcular carga total del sistema\n",
    "total_charge = sum(p.charge for p in proton_system)\n",
    "\n",
    "# Imprimir las propiedades del sistema\n",
    "print(\"Sistema de Partículas: Protón\")\n",
    "print(f\"Carga total: {total_charge} e\")  "
   ]
  },
  {
   "cell_type": "code",
   "execution_count": 12,
   "metadata": {},
   "outputs": [
    {
     "name": "stdout",
     "output_type": "stream",
     "text": [
      "Sistema de Partículas: Neutrón\n",
      "Masa total: 11.56 MeV\n",
      "Carga total: 0.0 e\n"
     ]
    }
   ],
   "source": [
    "# Crear sistema para representar el neutrón\n",
    "neutron_system = [Quarkdown, Quarkdown, Quarkup]\n",
    "\n",
    "# Calcular masa y carga total del sistema\n",
    "neutron_mass = sum(p.mass for p in neutron_system)\n",
    "neutron_charge = sum(p.charge for p in neutron_system)  # Sin la energía de ligadura\n",
    "\n",
    "# Imprimir las propiedades del sistema\n",
    "print(\"Sistema de Partículas: Neutrón\")\n",
    "print(f\"Masa total: {neutron_mass} MeV\")  # Masa aproximada en MeV/c^2\n",
    "print(f\"Carga total: {neutron_charge} e\")  # Debería ser 0 e\n"
   ]
  },
  {
   "cell_type": "code",
   "execution_count": 13,
   "metadata": {},
   "outputs": [
    {
     "name": "stdout",
     "output_type": "stream",
     "text": [
      "Partículas ordenadas por masa:\n",
      "Gluon: 0 MeV\n",
      "Foton: 1e-18 MeV\n",
      "Electron: 0.51099895 MeV\n",
      "Quarkup: 2.16 MeV\n",
      "Quarkdown: 4.7 MeV\n",
      "Muon: 105.6583755 MeV\n"
     ]
    }
   ],
   "source": [
    "# Crear lista de partículas\n",
    "particles = [Electron, Muon, Quarkdown, Quarkup, Foton, Gluon]\n",
    "\n",
    "# Ordenar partículas por masa\n",
    "sorted_particles = sorted(particles, key=lambda p: p.mass)\n",
    "\n",
    "# Imprimir partículas ordenadas por masa\n",
    "print(\"Partículas ordenadas por masa:\")\n",
    "for particle in sorted_particles:\n",
    "    print(f\"{particle.name}: {particle.mass} MeV\")\n"
   ]
  },
  {
   "cell_type": "code",
   "execution_count": 15,
   "metadata": {},
   "outputs": [
    {
     "name": "stdout",
     "output_type": "stream",
     "text": [
      "Fermiones:\n",
      "Electron (Spin: 0.5)\n",
      "Muon (Spin: 0.5)\n",
      "\n",
      "Bosones:\n",
      "Foton (Spin: 1)\n",
      "Gluon (Spin: 1)\n"
     ]
    }
   ],
   "source": [
    "# Clasificar partículas en fermiones y bosones\n",
    "fermions = [p for p in particles if p.type_of_particle == \"fermion\"]\n",
    "bosons = [p for p in particles if p.type_of_particle == \"boson\"]\n",
    "\n",
    "# Imprimir fermiones y bosones\n",
    "print(\"Fermiones:\")\n",
    "for fermion in fermions:\n",
    "    print(f\"{fermion.name} (Spin: {fermion.spin})\")\n",
    "\n",
    "print(\"\\nBosones:\")\n",
    "for boson in bosons:\n",
    "    print(f\"{boson.name} (Spin: {boson.spin})\")\n"
   ]
  }
 ],
 "metadata": {
  "kernelspec": {
   "display_name": "Python 3",
   "language": "python",
   "name": "python3"
  },
  "language_info": {
   "codemirror_mode": {
    "name": "ipython",
    "version": 3
   },
   "file_extension": ".py",
   "mimetype": "text/x-python",
   "name": "python",
   "nbconvert_exporter": "python",
   "pygments_lexer": "ipython3",
   "version": "3.11.5"
  }
 },
 "nbformat": 4,
 "nbformat_minor": 2
}
